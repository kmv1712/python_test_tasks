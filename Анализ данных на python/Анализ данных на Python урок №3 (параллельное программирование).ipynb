{
 "cells": [
  {
   "cell_type": "code",
   "execution_count": null,
   "metadata": {
    "collapsed": true
   },
   "outputs": [],
   "source": [
    "Анализ данных на Python урок №3 (паралельное програмирование)\n",
    "Тимофей Хирьянов\n",
    "\n",
    "актор - некий процессор, ядро (введет вычисления)\n",
    "\n",
    "Микроконтролер лучший актор\n",
    "\n",
    "Чередование \n",
    "\n",
    "Планировщик задач\n",
    "\n",
    "Переключение контекста тратит на себя время\n",
    "\n",
    "Вычислительного действия не дает если поочередно\n",
    "\n",
    "Видио карта - Графический процессор, оперативная память\n",
    "\n",
    "Смысл в черодование? Есть.\n",
    "\n",
    "Ядро операционой системы\n",
    "\n",
    "Round Robin\n",
    "\n",
    "обработчик события, прирывания\n",
    "\n",
    " \n",
    "Цели || программирования\n",
    "\n",
    "1) Интерактивность\n",
    "2) Скорость вычисления. Увеличения вычислительной скорости\n",
    "    2.1. Много ядер или процессоров (Система с общей памятью)\n",
    "    \n",
    "        CPU  CPU    RAM\n",
    "        |     |     |\n",
    "        ~~~~~~~~~~~~~~\n",
    "        \n",
    "        * Эффективность не увеличение не в 2 раза, ~1,9,  ~1.8\n",
    "        * \n",
    "        У 2 бугалтеров 2 своих рабочих места, но в одном кабинете, иногда будет ситуация что захотят порыться в шкафу, что влияет на эфективность\n",
    "    \n",
    "    2.2. Много компьютеров (распределенная выч. система)\n",
    "        Гомогеные - кластер\n",
    "        Гетерогеные - вычислительная сеть\n",
    "        У вас отдельные персоналки, сервера, у каждого отдельный CPU и RAM\n",
    "        Связаны через сеть\n",
    "            CPU, RAM          CPU, RAM\n",
    "               |______network_______|\n",
    "\n",
    "\n",
    "Генератор чистоты\n",
    "ГЧ -> CPU\n",
    "Повышение частоты может приводить к глюкам\n",
    "Процессор греется\n",
    "\n",
    "intel amd\n",
    "Довели до 4ГГц\n",
    "\n",
    "\n",
    "Взаимодействие вычислительных процесса друг с другом\n",
    "\n",
    "Схемы взаимодействия процессов\n",
    "Один компьютер с общей памятью\n",
    "\n",
    "Чем воспользоваться ? \n",
    "    Схемы взаимодействия процессов\n",
    "    1) Общая память Shared memory\n",
    "    \n",
    "        Критическая секция программного кода - гейзенбаг(плавающая ошибка)\n",
    "        race condition\n",
    "        \n",
    "        Перед тем как войти в критическую секцию. войти в туалет и проверить что пусто, переменное занято\n",
    "        Грамотное организации блокировки не получается сделать без операционной системы\n",
    "        mutual exclusion\n",
    "        Решение:\n",
    "            Взаимное исключение (mutual exclusion) mutex - нужны для защиты доступа к потенциальн оопасным местам.\n",
    "            \n",
    "        Если весь код критическая секция нет смысла в общей памяти\n",
    "        Организовать блокировки не просто\n",
    "        Есть способ организации легкой паралельности\n",
    "    \n",
    "    2) Очереди queues\n",
    "    \n",
    "Отладка паралелльных систем намного сложнее однозадачной однопроцессорной\n",
    "\n",
    "Переключение контекста трудоемкая операция\n",
    "\n",
    "Process 1                                                             Process 2\n",
    "Ресурсы:                            shared memory                     Ресурсы:                   \n",
    "    stdin                           (тяжеловесная)                       stdin  \n",
    "    stdout                                                               stdout\n",
    "    stderr                                                               stderr  \n",
    "    socket                                                               socket\n",
    "    memory pages                                                         memory page\n",
    "\n",
    "    \n",
    "Нити исполнения\n",
    "main thread\n",
    "Нити выполняются реально параллельно\n",
    "\n",
    "Мы вызывая какую либо функцию, ждем результата\n",
    "\n",
    "У каждой нити свой стек \n",
    "\n",
    "\n",
    "Будут глобальные переменые в общей памяти\n",
    "\n",
    "В python есть GIL (Global Interpreter Lock) глобальная блокировка интерпритатора\n",
    "\n",
    "Сборщик мусора должен считать количество ссылок на объект.\n",
    "Утечка памяти (memory leak) тихая зараза.\n",
    "Оперативной памяти жрет все больше и больше\n",
    "Сборщик мусора следит, чтобы неиспользуемая память возращалась операционной системе\n",
    "В python черодование, псевдопаралельность, но \n",
    "\n",
    "с момента перехода в системный вызов работает не вычислительный процесс нить находится в ожидание\n",
    "\n",
    "\n"
   ]
  },
  {
   "cell_type": "code",
   "execution_count": null,
   "metadata": {
    "collapsed": true
   },
   "outputs": [],
   "source": [
    "Многопоточность в python\n",
    "\n",
    "Лучше не использовать python для много поточности\n",
    "\n",
    "sleep запрос к операционой системы\n",
    "\n"
   ]
  },
  {
   "cell_type": "code",
   "execution_count": 2,
   "metadata": {},
   "outputs": [
    {
     "name": "stdout",
     "output_type": "stream",
     "text": [
      "Thread-1: Fri Mar  5 22:38:11 2021\n",
      "Thread-2: Fri Mar  5 22:38:11 2021\n"
     ]
    },
    {
     "ename": "KeyboardInterrupt",
     "evalue": "",
     "output_type": "error",
     "traceback": [
      "\u001b[1;31m---------------------------------------------------------------------------\u001b[0m",
      "\u001b[1;31mKeyboardInterrupt\u001b[0m                         Traceback (most recent call last)",
      "\u001b[1;32m<ipython-input-2-5a23539bf389>\u001b[0m in \u001b[0;36m<module>\u001b[1;34m()\u001b[0m\n\u001b[0;32m     16\u001b[0m \u001b[1;33m\u001b[0m\u001b[0m\n\u001b[0;32m     17\u001b[0m \u001b[1;32mwhile\u001b[0m \u001b[1;36m1\u001b[0m\u001b[1;33m:\u001b[0m\u001b[1;33m\u001b[0m\u001b[0m\n\u001b[1;32m---> 18\u001b[1;33m     \u001b[1;32mpass\u001b[0m\u001b[1;33m\u001b[0m\u001b[0m\n\u001b[0m",
      "\u001b[1;31mKeyboardInterrupt\u001b[0m: "
     ]
    },
    {
     "name": "stdout",
     "output_type": "stream",
     "text": [
      "Thread-1: Fri Mar  5 22:38:13 2021Thread-2: Fri Mar  5 22:38:13 2021\n",
      "\n",
      "Thread-2: Fri Mar  5 22:38:15 2021Thread-1: Fri Mar  5 22:38:15 2021\n",
      "\n",
      "Thread-2: Fri Mar  5 22:38:17 2021Thread-1: Fri Mar  5 22:38:17 2021\n",
      "\n",
      "Thread-2: Fri Mar  5 22:38:19 2021\n",
      "Thread-1: Fri Mar  5 22:38:19 2021\n"
     ]
    }
   ],
   "source": [
    "import _thread\n",
    "import time\n",
    "\n",
    "# Define a function for the thread\n",
    "def print_time(threadName, delay):\n",
    "    count = 0\n",
    "    while count < 5:\n",
    "        time.sleep(delay)\n",
    "        count += 1\n",
    "        print(f'{threadName}: {time.ctime(time.time())}')\n",
    "try:\n",
    "    _thread.start_new_thread(print_time, (\"Thread-1\", 2, ))\n",
    "    _thread.start_new_thread(print_time, (\"Thread-2\", 2, ))\n",
    "except:\n",
    "    print(\"Error: unable to start thread\")\n",
    "\n",
    "while 1:\n",
    "    pass"
   ]
  },
  {
   "cell_type": "markdown",
   "metadata": {},
   "source": [
    "# Запуск потока с применением threaing"
   ]
  },
  {
   "cell_type": "markdown",
   "metadata": {},
   "source": [
    "+ Имеем объект нити\n",
    "+ запускать run\n",
    "\n",
    "Глобальные переменые великое зло для паралелльного программирования\n"
   ]
  },
  {
   "cell_type": "code",
   "execution_count": 4,
   "metadata": {
    "collapsed": true
   },
   "outputs": [],
   "source": [
    "import threading\n",
    "import time\n",
    "\n",
    "class MyThread(threading.Thread):\n",
    "    def __init__(self, name, delay):\n",
    "        threading.Thread.__init__(self)\n",
    "        self.name = name\n",
    "        self.delay = delay\n",
    "        \n",
    "    def run(self):\n",
    "        print(f'Starting thread {self.name}')\n",
    "        thread_count_down(self.name, self.delay)\n",
    "        print(f'Finished thread {self.name}')\n",
    "\n",
    "def thread_count_down(name, delay):\n",
    "    counter = 5\n",
    "    \n",
    "    while counter:\n",
    "        time.sleep(delay)\n",
    "        print(f'Thread {name} counting down: {counter} ')\n",
    "        counter -= 1\n",
    "        "
   ]
  },
  {
   "cell_type": "code",
   "execution_count": 5,
   "metadata": {
    "collapsed": true
   },
   "outputs": [],
   "source": [
    "import threading\n",
    "\n",
    "class MyThread(threading.Thread):\n",
    "    def __init__(self, x):\n",
    "        threading.Thread.__init__(self)\n",
    "        self.x = x\n",
    "        \n",
    "    def run(self):\n",
    "        print(f'Starting processing {x}')\n",
    "        is_prime(self.x)\n"
   ]
  },
  {
   "cell_type": "code",
   "execution_count": 6,
   "metadata": {},
   "outputs": [
    {
     "name": "stdout",
     "output_type": "stream",
     "text": [
      "Starting processing 2\n",
      "Starting processing 193\n",
      "Starting processing 323\n",
      "Starting processing 1327\n",
      "Starting processing 433785907\n",
      "Finished.\n"
     ]
    },
    {
     "name": "stderr",
     "output_type": "stream",
     "text": [
      "Exception in thread Thread-6:\n",
      "Traceback (most recent call last):\n",
      "  File \"C:\\Users\\admin.kmm-nb\\Anaconda3\\lib\\threading.py\", line 916, in _bootstrap_inner\n",
      "    self.run()\n",
      "  File \"<ipython-input-5-50da6c646498>\", line 10, in run\n",
      "    is_prime(self.x)\n",
      "NameError: name 'is_prime' is not defined\n",
      "\n",
      "Exception in thread Thread-7:\n",
      "Traceback (most recent call last):\n",
      "  File \"C:\\Users\\admin.kmm-nb\\Anaconda3\\lib\\threading.py\", line 916, in _bootstrap_inner\n",
      "    self.run()\n",
      "  File \"<ipython-input-5-50da6c646498>\", line 10, in run\n",
      "    is_prime(self.x)\n",
      "NameError: name 'is_prime' is not defined\n",
      "\n",
      "Exception in thread Thread-10:\n",
      "Traceback (most recent call last):\n",
      "  File \"C:\\Users\\admin.kmm-nb\\Anaconda3\\lib\\threading.py\", line 916, in _bootstrap_inner\n",
      "    self.run()\n",
      "  File \"<ipython-input-5-50da6c646498>\", line 10, in run\n",
      "    is_prime(self.x)\n",
      "NameError: name 'is_prime' is not defined\n",
      "\n",
      "Exception in thread Thread-8:\n",
      "Traceback (most recent call last):\n",
      "  File \"C:\\Users\\admin.kmm-nb\\Anaconda3\\lib\\threading.py\", line 916, in _bootstrap_inner\n",
      "    self.run()\n",
      "  File \"<ipython-input-5-50da6c646498>\", line 10, in run\n",
      "    is_prime(self.x)\n",
      "NameError: name 'is_prime' is not defined\n",
      "\n",
      "Exception in thread Thread-9:\n",
      "Traceback (most recent call last):\n",
      "  File \"C:\\Users\\admin.kmm-nb\\Anaconda3\\lib\\threading.py\", line 916, in _bootstrap_inner\n",
      "    self.run()\n",
      "  File \"<ipython-input-5-50da6c646498>\", line 10, in run\n",
      "    is_prime(self.x)\n",
      "NameError: name 'is_prime' is not defined\n",
      "\n"
     ]
    }
   ],
   "source": [
    "my_input = [2, 193, 323, 1327, 433785907]\n",
    "\n",
    "threads = []\n",
    "\n",
    "for x in my_input:\n",
    "    temp_thread = MyThread(x)\n",
    "    temp_thread.start()\n",
    "    threads.append(temp_thread)\n",
    "    \n",
    "for thread in threads:\n",
    "    thread.join()\n",
    "\n",
    "    \n",
    "print('Finished.')"
   ]
  },
  {
   "cell_type": "markdown",
   "metadata": {},
   "source": [
    "# Передача данных между потоками при помощи pipe и общей памяти "
   ]
  },
  {
   "cell_type": "markdown",
   "metadata": {},
   "source": [
    "## Queue "
   ]
  },
  {
   "cell_type": "markdown",
   "metadata": {},
   "source": [
    "Queue предоставляет нам механизм взаимодействия потоков между процессами FIFO (первый пришел - первым обслужен).\n",
    "\n",
    "queue между нитями\n",
    "\n",
    "Queue для процессов"
   ]
  },
  {
   "cell_type": "code",
   "execution_count": null,
   "metadata": {
    "collapsed": true
   },
   "outputs": [],
   "source": [
    "from multiprocessing import Process, Queue\n",
    "import random\n",
    "\n",
    "def f(q):\n",
    "    q.put([42, None, 'hello'])\n",
    "    \n",
    "def main():\n",
    "    q = Queue()\n",
    "    p = Process(target=f, args=(q,))\n",
    "    p.start()\n",
    "    print(q.get())\n",
    "    \n",
    "if __name__ == '__main__':\n",
    "    main()\n"
   ]
  },
  {
   "cell_type": "markdown",
   "metadata": {},
   "source": [
    "## Pipe"
   ]
  },
  {
   "cell_type": "code",
   "execution_count": null,
   "metadata": {
    "collapsed": true
   },
   "outputs": [],
   "source": []
  },
  {
   "cell_type": "markdown",
   "metadata": {},
   "source": [
    "### Заключение. Ресурс параллельности"
   ]
  },
  {
   "cell_type": "markdown",
   "metadata": {},
   "source": []
  },
  {
   "cell_type": "markdown",
   "metadata": {},
   "source": [
    "# Урок 4"
   ]
  },
  {
   "cell_type": "markdown",
   "metadata": {},
   "source": [
    "## Скорость вычислений "
   ]
  },
  {
   "cell_type": "markdown",
   "metadata": {},
   "source": [
    "Число Фибоначчи"
   ]
  },
  {
   "cell_type": "code",
   "execution_count": 3,
   "metadata": {},
   "outputs": [
    {
     "ename": "SyntaxError",
     "evalue": "invalid syntax (<ipython-input-3-2d3d46a291f6>, line 8)",
     "output_type": "error",
     "traceback": [
      "\u001b[1;36m  File \u001b[1;32m\"<ipython-input-3-2d3d46a291f6>\"\u001b[1;36m, line \u001b[1;32m8\u001b[0m\n\u001b[1;33m    def worker(: int, process_index: int ):\u001b[0m\n\u001b[1;37m               ^\u001b[0m\n\u001b[1;31mSyntaxError\u001b[0m\u001b[1;31m:\u001b[0m invalid syntax\n"
     ]
    }
   ],
   "source": [
    "import threading\n",
    "from multiprocessing import Process, Queue\n",
    "import os\n",
    "import sys\n",
    "\n",
    "final_fibonacci_number = 40\n",
    "\n",
    "def worker(task: int, process_index: int ): \n",
    "    def fib(n: int) -> int:\n",
    "        return fib(n-1) + fib(n-2) if n > 2 else 1\n",
    "    number = task\n",
    "    answer = fib(number)\n",
    "    print(f\"worker{process_index} PID={os.getpid()} fib({number}) = {answer}\")\n",
    "\n",
    "\n",
    "def main():\n",
    "       \n",
    "    workers = []\n",
    "    for process_index in range(final_fibonacci_number + 1):\n",
    "        worker_proccess = Process(target=worker, [process_index], )\n",
    "        workers.append(worker_proccess)\n",
    "    \n",
    "    print(\"Подготовил\")\n",
    "    \n",
    "    start_time = time.perf_counter()\n",
    "    for worker_proccess in workers:\n",
    "        worker_proccess.start()\n",
    "    \n",
    "    print(\"Запустил\")\n",
    "    \n",
    "    for worker_proccess in workers:\n",
    "        worker_proccess.join()\n",
    "        \n",
    "    finish_time = time.perf_counter()\n",
    "    print(\"Выполнил за {finish_time - start_time}\")\n",
    "    \n",
    "if __name__ = '__main__':\n",
    "    p = Process(target=fib, args=())\n",
    "    main()\n",
    "    "
   ]
  },
  {
   "cell_type": "markdown",
   "metadata": {},
   "source": [
    "Отдельный процесс, для операционой системы отдельная сущность, выделяются ресурсы\n",
    "\n",
    "Родительский процесс\n",
    "Дочерний процесс\n",
    "\n",
    "Несколько вычеслительных процессов на python будет решать операционная система\n",
    "\n",
    "Скольких породил столько и присоединить\n",
    "start join\n",
    "\n",
    "Механизм\n",
    "\n",
    "Через модуль multiprocessing передать аргументы\n",
    "\n",
    "put добавить в очередь\n",
    "get получить \n",
    "\n",
    "Первая очередь отправляем задачи\n",
    "Вторая очередь получаем ответы\n",
    "\n",
    "Последовательность ответов не будет соотвествовать последовательности задач"
   ]
  },
  {
   "cell_type": "code",
   "execution_count": 1,
   "metadata": {},
   "outputs": [
    {
     "ename": "NameError",
     "evalue": "name 'n' is not defined",
     "output_type": "error",
     "traceback": [
      "\u001b[1;31m---------------------------------------------------------------------------\u001b[0m",
      "\u001b[1;31mNameError\u001b[0m                                 Traceback (most recent call last)",
      "\u001b[1;32m<ipython-input-1-70d0a0f9c454>\u001b[0m in \u001b[0;36m<module>\u001b[1;34m()\u001b[0m\n\u001b[0;32m     28\u001b[0m         \u001b[0mworkers\u001b[0m\u001b[1;33m.\u001b[0m\u001b[0mappend\u001b[0m\u001b[1;33m(\u001b[0m\u001b[0mworker_process\u001b[0m\u001b[1;33m)\u001b[0m\u001b[1;33m\u001b[0m\u001b[0m\n\u001b[0;32m     29\u001b[0m \u001b[1;32mif\u001b[0m \u001b[0m__name__\u001b[0m \u001b[1;33m==\u001b[0m \u001b[1;34m'__main__'\u001b[0m\u001b[1;33m:\u001b[0m\u001b[1;33m\u001b[0m\u001b[0m\n\u001b[1;32m---> 30\u001b[1;33m     \u001b[0mmain\u001b[0m\u001b[1;33m(\u001b[0m\u001b[1;33m)\u001b[0m\u001b[1;33m\u001b[0m\u001b[0m\n\u001b[0m",
      "\u001b[1;32m<ipython-input-1-70d0a0f9c454>\u001b[0m in \u001b[0;36mmain\u001b[1;34m()\u001b[0m\n\u001b[0;32m     21\u001b[0m \u001b[1;33m\u001b[0m\u001b[0m\n\u001b[0;32m     22\u001b[0m     \u001b[1;32mfor\u001b[0m \u001b[0mnumber\u001b[0m \u001b[1;32min\u001b[0m \u001b[0mrange\u001b[0m\u001b[1;33m(\u001b[0m\u001b[1;36m1\u001b[0m\u001b[1;33m,\u001b[0m \u001b[0mfinal_fibonacci_number\u001b[0m \u001b[1;33m+\u001b[0m \u001b[1;36m1\u001b[0m\u001b[1;33m)\u001b[0m\u001b[1;33m:\u001b[0m\u001b[1;33m\u001b[0m\u001b[0m\n\u001b[1;32m---> 23\u001b[1;33m         \u001b[0mqueue_tasks\u001b[0m\u001b[1;33m.\u001b[0m\u001b[0mput\u001b[0m\u001b[1;33m(\u001b[0m\u001b[0mn\u001b[0m\u001b[1;33m)\u001b[0m\u001b[1;33m\u001b[0m\u001b[0m\n\u001b[0m\u001b[0;32m     24\u001b[0m \u001b[1;33m\u001b[0m\u001b[0m\n\u001b[0;32m     25\u001b[0m     \u001b[0mworkers\u001b[0m \u001b[1;33m=\u001b[0m \u001b[1;33m[\u001b[0m\u001b[1;33m]\u001b[0m\u001b[1;33m\u001b[0m\u001b[0m\n",
      "\u001b[1;31mNameError\u001b[0m: name 'n' is not defined"
     ]
    }
   ],
   "source": [
    "from multiprocessing import Process, Queue\n",
    "import os\n",
    "import time\n",
    "\n",
    "workers_number = 4\n",
    "final_fibonacci_number = 40\n",
    "\n",
    "def worker(task: Queue, answer: Queue, process_index: int):\n",
    "    def fib(n: int) -> int:\n",
    "        return fib(n-2) + fib(n-1) if fib > 2 else 1\n",
    "    \n",
    "    while not tasks.empty():\n",
    "        number = tasks.get()\n",
    "        answer = fib(number)\n",
    "        answers.put((process_index, os.getpid(), number, answer,))\n",
    "        # print(f\"worker {process_index}, PID={os.getpid()}: fib({number}={answer})\")\n",
    "\n",
    "def main():\n",
    "    queue_tasks = Queue()\n",
    "    queue_answers = Queue()\n",
    "    \n",
    "    for number in range(1, final_fibonacci_number + 1):\n",
    "        queue_tasks.put(n)\n",
    "        \n",
    "    workers = []\n",
    "    for process_index in range(workers_number):\n",
    "        worker_process = Process(target=worker, args=(tasks, answer, process_index, ))\n",
    "        workers.append(worker_process)\n",
    "if __name__ == '__main__':\n",
    "    main()"
   ]
  },
  {
   "cell_type": "markdown",
   "metadata": {},
   "source": [
    "В питон нет особого смысла использовать несколько нитей, только для случаев если идет работа с операционой системой например чтение фалов или получени евремени и.т.д. Смысла нет т.к. GIL глобальный блокировнщик инторпритатора не дает выполнятся нитям паралелльно. Но есть смысл использовать паралельность через несколько процессов с помощью библиотеки multiprocessing \n"
   ]
  },
  {
   "cell_type": "markdown",
   "metadata": {},
   "source": [
    "Два вопроса которые надо задавать когда хотим ускорить работу за счет параллельности\n",
    "\n",
    "1) А мы точно использовали правильный алгоритм?\n",
    "\n",
    "2) Мы точно хотим делать это на этом языке программирования?\n",
    "\n"
   ]
  }
 ],
 "metadata": {
  "kernelspec": {
   "display_name": "Python 3",
   "language": "python",
   "name": "python3"
  },
  "language_info": {
   "codemirror_mode": {
    "name": "ipython",
    "version": 3
   },
   "file_extension": ".py",
   "mimetype": "text/x-python",
   "name": "python",
   "nbconvert_exporter": "python",
   "pygments_lexer": "ipython3",
   "version": "3.6.3"
  }
 },
 "nbformat": 4,
 "nbformat_minor": 2
}
